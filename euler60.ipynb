{
 "cells": [
  {
   "cell_type": "code",
   "execution_count": 10,
   "metadata": {
    "collapsed": true
   },
   "outputs": [],
   "source": [
    "'''From Sharas on stackoverflow\n",
    "http://stackoverflow.com/questions/567222/simple-prime-generator-in-python'''\n",
    "\n",
    "import math\n",
    "import itertools\n",
    "\n",
    "def create_prime_iterator(rfrom, rto):\n",
    "    \"\"\"Create iterator of prime numbers in range [rfrom, rto]\"\"\"\n",
    "    # include 2 if it is in range separately as it is a \"weird\" case of even prime\n",
    "    prefix = [2] if rfrom < 3 and rto > 1 else []\n",
    "    # make rfrom an odd number so that  we can skip all even numbers when\n",
    "    #searching for primes, also skip 1 as a non prime odd number.\n",
    "    odd_rfrom = 3 if rfrom < 3 else make_odd(rfrom) \n",
    "    odd_numbers = (num for num in range(odd_rfrom, rto + 1, 2))\n",
    "    prime_generator = (num for num in odd_numbers if not has_odd_divisor(num))\n",
    "    return itertools.chain(prefix, prime_generator)\n",
    "\n",
    "def has_odd_divisor(num):\n",
    "    \"\"\"Test whether number is evenly divisable by odd divisor.\"\"\"\n",
    "    maxDivisor = int(math.sqrt(num))\n",
    "    for divisor in range(3, maxDivisor + 1, 2):\n",
    "        if num % divisor == 0:\n",
    "            return True\n",
    "    return False\n",
    "\n",
    "def make_odd(number):\n",
    "    \"\"\"Make number odd by adding one to it if it was even, otherwise return it unchanged\"\"\"\n",
    "    return number | 1\n",
    "\n"
   ]
  },
  {
   "cell_type": "code",
   "execution_count": 13,
   "metadata": {
    "collapsed": false
   },
   "outputs": [
    {
     "name": "stdout",
     "output_type": "stream",
     "text": [
      "7927\n"
     ]
    }
   ],
   "source": [
    "primes = []\n",
    "h = create_prime_iterator(3,10000)\n",
    "for i in range(1000):\n",
    "    primes.append(next(h))\n",
    "    \n",
    "print(primes[-1])"
   ]
  },
  {
   "cell_type": "code",
   "execution_count": null,
   "metadata": {
    "collapsed": true
   },
   "outputs": [],
   "source": [
    "for i in range(5):\n",
    "    "
   ]
  }
 ],
 "metadata": {
  "kernelspec": {
   "display_name": "Python 3",
   "language": "python",
   "name": "python3"
  },
  "language_info": {
   "codemirror_mode": {
    "name": "ipython",
    "version": 3
   },
   "file_extension": ".py",
   "mimetype": "text/x-python",
   "name": "python",
   "nbconvert_exporter": "python",
   "pygments_lexer": "ipython3",
   "version": "3.5.1"
  }
 },
 "nbformat": 4,
 "nbformat_minor": 0
}
